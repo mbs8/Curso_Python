{
 "cells": [
  {
   "cell_type": "markdown",
   "metadata": {},
   "source": [
    "### Exercício \n",
    "------------------\n",
    "Faça uma função em Python que receba um string e:\n",
    "* a) Transforme todas as letras iniciais de palavras para maiúsculas;\n",
    "* b) Todas as outras letras devem ser transformadas em minusculas;\n",
    "* c) Os artigos isolados, exceto se for a primeira letra da frase, devem ficar em caixa baixa.\n",
    "\n",
    "**Exemplo 1** : \n",
    "* In : \"a grande partidA\"\n",
    "* Out : \"A Grande Partida\"\n",
    "\n",
    "**Exemplo 2** : \n",
    "* In : \"o livro E o garato\"\n",
    "* Out : \"O Livro  e o Garoto\"\n",
    "\n"
   ]
  },
  {
   "cell_type": "code",
   "execution_count": 47,
   "metadata": {},
   "outputs": [
    {
     "name": "stdout",
     "output_type": "stream",
     "text": [
      "Uma Grande Das Partida\n",
      "True\n",
      "O Livro e o Garoto\n",
      "True\n"
     ]
    }
   ],
   "source": [
    "def toCapitalize(word):\n",
    "    result = word[0].upper() + word[1:].lower()\n",
    "    return result\n",
    "\n",
    "def formatString(s):\n",
    "    words = s.split(\" \")\n",
    "    result = \" \"\n",
    "    \n",
    "    for (i,word) in enumerate(words):\n",
    "        if(i == 0):\n",
    "            words[i] = word[0].upper() + word[1:]\n",
    "        elif(len(word) > 1):\n",
    "            words[i] = toCapitalize(word)\n",
    "        elif(len(word) == 1):\n",
    "            words[i] = word.lower()\n",
    "            \n",
    "    result = result.join(words)\n",
    "    print(result)\n",
    "    return result;\n",
    "    \n",
    "print(formatString('uma grande das partidA') == 'Uma Grande Das Partida');\n",
    "print(formatString('o livro E o garoto') == 'O Livro e o Garoto');"
   ]
  },
  {
   "cell_type": "code",
   "execution_count": null,
   "metadata": {},
   "outputs": [],
   "source": []
  }
 ],
 "metadata": {
  "kernelspec": {
   "display_name": "Python 3",
   "language": "python",
   "name": "python3"
  },
  "language_info": {
   "codemirror_mode": {
    "name": "ipython",
    "version": 3
   },
   "file_extension": ".py",
   "mimetype": "text/x-python",
   "name": "python",
   "nbconvert_exporter": "python",
   "pygments_lexer": "ipython3",
   "version": "3.7.0"
  }
 },
 "nbformat": 4,
 "nbformat_minor": 2
}
