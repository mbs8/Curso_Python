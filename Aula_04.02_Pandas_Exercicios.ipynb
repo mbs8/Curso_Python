{
 "cells": [
  {
   "cell_type": "markdown",
   "metadata": {},
   "source": [
    "## Cheat Sheet - http://pandas.pydata.org/Pandas_Cheat_Sheet.pdf"
   ]
  },
  {
   "cell_type": "markdown",
   "metadata": {},
   "source": [
    "### Exercício (https://github.com/lucasharada/Curso_Python)\n",
    "------------------\n",
    "1. Importe `numpy` como `np`\n",
    "2. Importe `pandas` como `pd`\n",
    "3. Ajuste o seed do `numpy` para `201`\n",
    "4. Crie uma série `pandas` a partir de um vetor contendo 100 números aleatórios de 0 a 1\n",
    "5. Dadas as séries abaixo:\n",
    "    1. Calcule a **nota percentual** de cada **aluno** nas provas 1 e 2 em relação à **maior nota**\n",
    "    2. Calcule a **nota normalizada** de cada **aluno** nas provas 1 e 2\n",
    "6. Dado o dataframe `df1` abaixo:\n",
    "    1. Calcule a **média** de cada **prova**\n",
    "    2. Calcule a **média** de cada **aluno**\n",
    "    3. Liste os alunos com nota em P2 **abaixo** da média\n",
    "    4. Ordene o *dataframe* por P3\n",
    "    5. Crie um nova coluna com a média do aluno\n",
    "7. Dado o dataframe `df2` abaixo:\n",
    "    1. Selecione as **linhas** sem `NaN`\n",
    "    2. Selecione as **colunas** sem `NaN`\n",
    "8. Dado o dataframe `df3` abaixo:\n",
    "    1. Calcule o **erro médio** de cada **método**\n",
    "    2. Calcule o **erro médio** de cada **cenário**"
   ]
  },
  {
   "cell_type": "code",
   "execution_count": 2,
   "metadata": {},
   "outputs": [],
   "source": [
    "# 1 \n",
    "# 2\n",
    "import numpy as np\n",
    "import pandas as pd"
   ]
  },
  {
   "cell_type": "code",
   "execution_count": 7,
   "metadata": {},
   "outputs": [
    {
     "data": {
      "text/plain": [
       "0     0.113905\n",
       "1     0.747881\n",
       "2     0.611059\n",
       "3     0.809692\n",
       "4     0.712857\n",
       "5     0.140037\n",
       "6     0.267512\n",
       "7     0.147604\n",
       "8     0.228068\n",
       "9     0.235562\n",
       "10    0.690024\n",
       "11    0.148348\n",
       "12    0.445606\n",
       "13    0.700843\n",
       "14    0.096639\n",
       "15    0.882633\n",
       "16    0.869832\n",
       "17    0.844594\n",
       "18    0.273702\n",
       "19    0.785680\n",
       "20    0.701136\n",
       "21    0.494730\n",
       "22    0.836337\n",
       "23    0.404184\n",
       "24    0.173223\n",
       "25    0.365402\n",
       "26    0.997089\n",
       "27    0.340654\n",
       "28    0.505380\n",
       "29    0.539347\n",
       "        ...   \n",
       "70    0.069135\n",
       "71    0.864215\n",
       "72    0.934835\n",
       "73    0.498053\n",
       "74    0.079400\n",
       "75    0.667511\n",
       "76    0.182622\n",
       "77    0.447626\n",
       "78    0.106429\n",
       "79    0.196565\n",
       "80    0.390680\n",
       "81    0.742758\n",
       "82    0.117910\n",
       "83    0.480644\n",
       "84    0.334931\n",
       "85    0.107927\n",
       "86    0.936396\n",
       "87    0.809078\n",
       "88    0.785483\n",
       "89    0.013134\n",
       "90    0.779030\n",
       "91    0.332433\n",
       "92    0.880418\n",
       "93    0.458884\n",
       "94    0.383134\n",
       "95    0.503336\n",
       "96    0.949152\n",
       "97    0.012586\n",
       "98    0.869552\n",
       "99    0.458000\n",
       "Length: 100, dtype: float64"
      ]
     },
     "execution_count": 7,
     "metadata": {},
     "output_type": "execute_result"
    }
   ],
   "source": [
    "# 3\n",
    "# 4\n",
    "np.random.seed(201)\n",
    "arr = np.random.random(100)\n",
    "series = pd.Series(arr)\n",
    "series"
   ]
  },
  {
   "cell_type": "code",
   "execution_count": 18,
   "metadata": {},
   "outputs": [
    {
     "name": "stdout",
     "output_type": "stream",
     "text": [
      "AL01    0.5\n",
      "AL02    1.0\n",
      "AL03    0.9\n",
      "dtype: float64 \n",
      "\n",
      "AL01    0.666667\n",
      "AL02    1.000000\n",
      "AL03    0.666667\n",
      "dtype: float64\n"
     ]
    }
   ],
   "source": [
    "# Séries para item (5)\n",
    "serie1 = pd.Series(data=[5, 10, 9], index=['AL01', 'AL02', 'AL03'])\n",
    "serie2 = pd.Series(data=[4, 6, 4], index=['AL01', 'AL02', 'AL03'])\n",
    "\n",
    "maxSerie1 = serie1.max()\n",
    "maxSerie2 = serie2.max()\n",
    "\n",
    "print(serie1.apply(lambda x : x / maxSerie1), '\\n')\n",
    "print(serie2.apply(lambda x : x / maxSerie2))"
   ]
  },
  {
   "cell_type": "code",
   "execution_count": null,
   "metadata": {
    "scrolled": true
   },
   "outputs": [],
   "source": [
    "# Dataframe para item (6)\n",
    "np.random.seed(100)\n",
    "dados = np.random.rand(5,3)*10\n",
    "colunas = ['P1', 'P2', 'P3']\n",
    "index = ['AL01', 'AL02', 'AL03', 'AL04', 'AL05']\n",
    "df1 = pd.DataFrame(dados, index, colunas)"
   ]
  },
  {
   "cell_type": "code",
   "execution_count": null,
   "metadata": {},
   "outputs": [],
   "source": [
    "# Dataframe para item (7)\n",
    "df2 = pd.DataFrame({'A':[1,2,np.nan],'B':[2,4,np.nan],'C':[3,4,4],'D':[np.nan,1,2]})"
   ]
  },
  {
   "cell_type": "code",
   "execution_count": null,
   "metadata": {},
   "outputs": [],
   "source": [
    "# Dataframe para item (8)\n",
    "df3 = pd.DataFrame({\n",
    "    'Metodo': ['KNN', 'SVR', 'ANN', 'KNN', 'SVR', 'ANN'],\n",
    "    'Cenario': ['C1', 'C2', 'C1', 'C2', 'C1', 'C2'],\n",
    "    'Erro': [2.1, 2.1, 1.5, 1.7, 1.8, 1.9]\n",
    "})"
   ]
  },
  {
   "cell_type": "code",
   "execution_count": null,
   "metadata": {},
   "outputs": [],
   "source": []
  }
 ],
 "metadata": {
  "kernelspec": {
   "display_name": "Python 3",
   "language": "python",
   "name": "python3"
  },
  "language_info": {
   "codemirror_mode": {
    "name": "ipython",
    "version": 3
   },
   "file_extension": ".py",
   "mimetype": "text/x-python",
   "name": "python",
   "nbconvert_exporter": "python",
   "pygments_lexer": "ipython3",
   "version": "3.7.0"
  }
 },
 "nbformat": 4,
 "nbformat_minor": 2
}
